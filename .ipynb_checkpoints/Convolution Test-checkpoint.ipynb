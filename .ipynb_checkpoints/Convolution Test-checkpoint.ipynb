{
 "cells": [
  {
   "cell_type": "code",
   "execution_count": 1,
   "metadata": {
    "collapsed": true
   },
   "outputs": [],
   "source": [
    "import tensorflow as tf\n",
    "import numpy as np\n",
    "import scipy.ndimage\n",
    "import matplotlib.pyplot as plt\n",
    "\n",
    "%matplotlib inline"
   ]
  },
  {
   "cell_type": "code",
   "execution_count": 2,
   "metadata": {},
   "outputs": [
    {
     "data": {
      "image/png": "[encoded data removed]",
      "text/plain": [
       "<matplotlib.figure.Figure at 0x111f12ac8>"
      ]
     },
     "metadata": {},
     "output_type": "display_data"
    }
   ],
   "source": [
    "image = scipy.ndimage.imread(\"photo.png\", mode=\"RGB\")\n",
    "image = image[10:42, 25:57, :]\n",
    "plt.imshow(image)\n",
    "plt.show()\n",
    "image = np.expand_dims(image, axis=0)"
   ]
  },
  {
   "cell_type": "code",
   "execution_count": 3,
   "metadata": {},
   "outputs": [
    {
     "data": {
      "text/plain": [
       "(1, 32, 32, 3)"
      ]
     },
     "execution_count": 3,
     "metadata": {},
     "output_type": "execute_result"
    }
   ],
   "source": [
    "image.shape"
   ]
  },
  {
   "cell_type": "code",
   "execution_count": 15,
   "metadata": {},
   "outputs": [],
   "source": [
    "move = np.linspace(-1.0, 1.0, 21)\n",
    "rotation = np.linspace(-1, 1, 21)\n",
    "shoot = [0, 1]\n",
    "actions = [(m, r, s) for m in move for r in rotation for s in shoot]"
   ]
  },
  {
   "cell_type": "code",
   "execution_count": 4,
   "metadata": {
    "collapsed": true
   },
   "outputs": [],
   "source": [
    "sess = tf.InteractiveSession()"
   ]
  },
  {
   "cell_type": "code",
   "execution_count": 5,
   "metadata": {
    "scrolled": true
   },
   "outputs": [],
   "source": [
    "img = tf.placeholder(tf.float32, shape=image.shape, name=\"image\")\n",
    "comm = tf.placeholder(tf.float32, shape=(1, 2), name=\"comm\")\n",
    "\n",
    "conv1 = tf.layers.conv2d(img, filters=8, kernel_size=8, strides=4, activation=tf.nn.elu, name=\"conv1\") # => 7x7x24\n",
    "conv2 = tf.layers.conv2d(conv1, filters=16, kernel_size=4, strides=3, activation=tf.nn.elu, name=\"conv2\") # => 2x2x384\n",
    "flat = tf.contrib.layers.flatten(conv2) # => 1536\n",
    "flatcomm = tf.concat([flat, comm], axis=1)\n",
    "fc1 = tf.layers.dense(flatcomm, units=1200, activation=tf.nn.elu, name=\"fc1\")\n",
    "fc2 = tf.layers.dense(fc1, units=1000, activation=tf.nn.elu, name=\"fc2\")\n",
    "out = tf.layers.dense(fc2, units=len(actions), name=\"out\")\n",
    "\n",
    "predict = tf.argmax(out, axis=1)"
   ]
  },
  {
   "cell_type": "code",
   "execution_count": 6,
   "metadata": {},
   "outputs": [],
   "source": [
    "sess.run(tf.global_variables_initializer())"
   ]
  },
  {
   "cell_type": "code",
   "execution_count": 13,
   "metadata": {},
   "outputs": [],
   "source": [
    "o, p = sess.run([out, predict], feed_dict={img: image, comm: np.random.rand(1, 2)})"
   ]
  },
  {
   "cell_type": "code",
   "execution_count": null,
   "metadata": {
    "collapsed": true
   },
   "outputs": [],
   "source": []
  }
 ],
 "metadata": {
  "kernelspec": {
   "display_name": "Python 3",
   "language": "python",
   "name": "python3"
  },
  "language_info": {
   "codemirror_mode": {
    "name": "ipython",
    "version": 3
   },
   "file_extension": ".py",
   "mimetype": "text/x-python",
   "name": "python",
   "nbconvert_exporter": "python",
   "pygments_lexer": "ipython3",
   "version": "3.6.1"
  }
 },
 "nbformat": 4,
 "nbformat_minor": 2
}
